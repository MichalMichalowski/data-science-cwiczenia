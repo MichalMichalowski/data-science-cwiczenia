{
  "nbformat": 4,
  "nbformat_minor": 0,
  "metadata": {
    "colab": {
      "name": "Alg_liniowa.ipynb",
      "provenance": [],
      "collapsed_sections": [],
      "authorship_tag": "ABX9TyNYQZ6d9aNoQNGHTF5iTp51",
      "include_colab_link": true
    },
    "kernelspec": {
      "name": "python3",
      "display_name": "Python 3"
    }
  },
  "cells": [
    {
      "cell_type": "markdown",
      "metadata": {
        "id": "view-in-github",
        "colab_type": "text"
      },
      "source": [
        "<a href=\"https://colab.research.google.com/github/MichalMichalowski/data-science-cwiczenia/blob/main/Alg_liniowa.ipynb\" target=\"_parent\"><img src=\"https://colab.research.google.com/assets/colab-badge.svg\" alt=\"Open In Colab\"/></a>"
      ]
    },
    {
      "cell_type": "code",
      "metadata": {
        "id": "aNswj7VJYi4r"
      },
      "source": [
        "import numpy as np"
      ],
      "execution_count": 1,
      "outputs": []
    },
    {
      "cell_type": "code",
      "metadata": {
        "colab": {
          "base_uri": "https://localhost:8080/"
        },
        "id": "CYpq3NNCYkpU",
        "outputId": "d8796278-7b19-4b44-f3ee-68d60cb2b503"
      },
      "source": [
        "v1 = np.array([2,5])\n",
        "v1"
      ],
      "execution_count": 2,
      "outputs": [
        {
          "output_type": "execute_result",
          "data": {
            "text/plain": [
              "array([2, 5])"
            ]
          },
          "metadata": {
            "tags": []
          },
          "execution_count": 2
        }
      ]
    },
    {
      "cell_type": "code",
      "metadata": {
        "colab": {
          "base_uri": "https://localhost:8080/"
        },
        "id": "in-ab0VjYu03",
        "outputId": "bedba66d-0644-4299-e3af-4a67d39c6b1e"
      },
      "source": [
        "np.linalg.norm(v1)"
      ],
      "execution_count": 3,
      "outputs": [
        {
          "output_type": "execute_result",
          "data": {
            "text/plain": [
              "5.385164807134504"
            ]
          },
          "metadata": {
            "tags": []
          },
          "execution_count": 3
        }
      ]
    },
    {
      "cell_type": "markdown",
      "metadata": {
        "id": "VoYQ_mgkZ6vG"
      },
      "source": [
        "Odległość dwóch punktów w przestrzeni Rn"
      ]
    },
    {
      "cell_type": "code",
      "metadata": {
        "colab": {
          "base_uri": "https://localhost:8080/"
        },
        "id": "2qIF8sYoZ-2h",
        "outputId": "c632ad26-f746-4b4e-db72-a6a3236811f3"
      },
      "source": [
        "p = np.array([4,2, 3, 23])\n",
        "q = np.array([2,8, 9, 1])\n",
        "\n",
        "np.linalg.norm( p - q )\n"
      ],
      "execution_count": 8,
      "outputs": [
        {
          "output_type": "execute_result",
          "data": {
            "text/plain": [
              "23.664319132398465"
            ]
          },
          "metadata": {
            "tags": []
          },
          "execution_count": 8
        }
      ]
    },
    {
      "cell_type": "markdown",
      "metadata": {
        "id": "k8rz3GBRcTC9"
      },
      "source": [
        "Mnożenie macierzy"
      ]
    },
    {
      "cell_type": "code",
      "metadata": {
        "colab": {
          "base_uri": "https://localhost:8080/"
        },
        "id": "5AXwCrcSaK4_",
        "outputId": "9e4da954-f118-4092-c9d4-49a4e5a113ac"
      },
      "source": [
        "m1 = np.array([[2,3],[0,1]])\n",
        "m2 = np.array([2,1])\n",
        "\n",
        "\n",
        "np.linalg.norm(np.dot(m2,m1) - m2)"
      ],
      "execution_count": 13,
      "outputs": [
        {
          "output_type": "execute_result",
          "data": {
            "text/plain": [
              "6.324555320336759"
            ]
          },
          "metadata": {
            "tags": []
          },
          "execution_count": 13
        }
      ]
    },
    {
      "cell_type": "markdown",
      "metadata": {
        "id": "0SxLFNzccWNz"
      },
      "source": [
        "Wyznacznik macierzy"
      ]
    },
    {
      "cell_type": "code",
      "metadata": {
        "colab": {
          "base_uri": "https://localhost:8080/"
        },
        "id": "KBWTghCGbaJn",
        "outputId": "b37cdd2b-4b1f-49ce-95bd-e5ffff705edc"
      },
      "source": [
        "np.random.seed(0)\n",
        "\n",
        "macierz = np.arange(start=np.random.randint(low=3,high=10),stop=np.random.randint(low=30,high=50),step=5, dtype='float')\n",
        "np.random.shuffle(macierz)\n",
        "macierz = macierz.reshape(4,2)\n",
        "print(macierz)"
      ],
      "execution_count": 36,
      "outputs": [
        {
          "output_type": "stream",
          "text": [
            "[[37. 17.]\n",
            " [12. 27.]\n",
            " [42. 22.]\n",
            " [ 7. 32.]]\n"
          ],
          "name": "stdout"
        }
      ]
    },
    {
      "cell_type": "code",
      "metadata": {
        "colab": {
          "base_uri": "https://localhost:8080/"
        },
        "id": "R73VlzeAc1U1",
        "outputId": "0c774704-d116-48c2-a94f-df00f9143c79"
      },
      "source": [
        "macierz2 = np.array([[2,3,4],[2,4,4],[6,4,5]])\n",
        "\n",
        "np.linalg.det(macierz2)"
      ],
      "execution_count": 40,
      "outputs": [
        {
          "output_type": "execute_result",
          "data": {
            "text/plain": [
              "-13.999999999999996"
            ]
          },
          "metadata": {
            "tags": []
          },
          "execution_count": 40
        }
      ]
    },
    {
      "cell_type": "markdown",
      "metadata": {
        "id": "sX4-asiue2s1"
      },
      "source": [
        "Ślad macierzy"
      ]
    },
    {
      "cell_type": "code",
      "metadata": {
        "colab": {
          "base_uri": "https://localhost:8080/"
        },
        "id": "0yUw0d2zehZO",
        "outputId": "22c8649c-83fc-4ef5-89da-be2661b20675"
      },
      "source": [
        "np.trace(macierz2)"
      ],
      "execution_count": 41,
      "outputs": [
        {
          "output_type": "execute_result",
          "data": {
            "text/plain": [
              "11"
            ]
          },
          "metadata": {
            "tags": []
          },
          "execution_count": 41
        }
      ]
    },
    {
      "cell_type": "code",
      "metadata": {
        "colab": {
          "base_uri": "https://localhost:8080/"
        },
        "id": "n2haZfCPe6Up",
        "outputId": "28683f2f-c772-46d1-92d9-c8b64f6b0d22"
      },
      "source": [
        "macierz2.T"
      ],
      "execution_count": 42,
      "outputs": [
        {
          "output_type": "execute_result",
          "data": {
            "text/plain": [
              "array([[2, 2, 6],\n",
              "       [3, 4, 4],\n",
              "       [4, 4, 5]])"
            ]
          },
          "metadata": {
            "tags": []
          },
          "execution_count": 42
        }
      ]
    },
    {
      "cell_type": "code",
      "metadata": {
        "id": "4T3MXmBugvrp"
      },
      "source": [
        ""
      ],
      "execution_count": null,
      "outputs": []
    }
  ]
}
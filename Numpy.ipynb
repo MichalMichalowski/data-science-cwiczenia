{
  "nbformat": 4,
  "nbformat_minor": 0,
  "metadata": {
    "colab": {
      "name": "Numpy.ipynb",
      "provenance": [],
      "collapsed_sections": [],
      "authorship_tag": "ABX9TyNI2Kkflyy0M+x+ZZTzOWD7",
      "include_colab_link": true
    },
    "kernelspec": {
      "name": "python3",
      "display_name": "Python 3"
    }
  },
  "cells": [
    {
      "cell_type": "markdown",
      "metadata": {
        "id": "view-in-github",
        "colab_type": "text"
      },
      "source": [
        "<a href=\"https://colab.research.google.com/github/MichalMichalowski/data-science-cwiczenia/blob/main/Numpy.ipynb\" target=\"_parent\"><img src=\"https://colab.research.google.com/assets/colab-badge.svg\" alt=\"Open In Colab\"/></a>"
      ]
    },
    {
      "cell_type": "code",
      "metadata": {
        "colab": {
          "base_uri": "https://localhost:8080/",
          "height": 35
        },
        "id": "ff9Fq2NNCD-k",
        "outputId": "3ba89cef-2774-4bc3-c955-e7c26df86650"
      },
      "source": [
        "import numpy as np\n",
        "np.__version__"
      ],
      "execution_count": 2,
      "outputs": [
        {
          "output_type": "execute_result",
          "data": {
            "application/vnd.google.colaboratory.intrinsic+json": {
              "type": "string"
            },
            "text/plain": [
              "'1.18.5'"
            ]
          },
          "metadata": {
            "tags": []
          },
          "execution_count": 2
        }
      ]
    },
    {
      "cell_type": "code",
      "metadata": {
        "colab": {
          "base_uri": "https://localhost:8080/"
        },
        "id": "I5Y5jyHADnWV",
        "outputId": "28cd7cb2-fe82-4f24-bc55-4163f221bac9"
      },
      "source": [
        "arr_d = np.array([1,3,5,3,9])\n",
        "arr_d"
      ],
      "execution_count": 8,
      "outputs": [
        {
          "output_type": "execute_result",
          "data": {
            "text/plain": [
              "array([1, 3, 5, 3, 9])"
            ]
          },
          "metadata": {
            "tags": []
          },
          "execution_count": 8
        }
      ]
    },
    {
      "cell_type": "code",
      "metadata": {
        "colab": {
          "base_uri": "https://localhost:8080/"
        },
        "id": "xf4S-3yIEetw",
        "outputId": "ca95cdaa-42e9-4a7c-9a26-880ccc7c44e7"
      },
      "source": [
        "arr_d.dtype"
      ],
      "execution_count": 9,
      "outputs": [
        {
          "output_type": "execute_result",
          "data": {
            "text/plain": [
              "dtype('int64')"
            ]
          },
          "metadata": {
            "tags": []
          },
          "execution_count": 9
        }
      ]
    },
    {
      "cell_type": "code",
      "metadata": {
        "colab": {
          "base_uri": "https://localhost:8080/"
        },
        "id": "KLbelE4kEnkI",
        "outputId": "6272a186-7ac2-4744-e99a-8773085db5de"
      },
      "source": [
        "len(arr_d)"
      ],
      "execution_count": 11,
      "outputs": [
        {
          "output_type": "execute_result",
          "data": {
            "text/plain": [
              "5"
            ]
          },
          "metadata": {
            "tags": []
          },
          "execution_count": 11
        }
      ]
    },
    {
      "cell_type": "markdown",
      "metadata": {
        "id": "QIa0WxCsFZWK"
      },
      "source": [
        "Tabele 2-wymiarowe"
      ]
    },
    {
      "cell_type": "code",
      "metadata": {
        "colab": {
          "base_uri": "https://localhost:8080/"
        },
        "id": "O4z35bjpFbwi",
        "outputId": "2fcce56b-d031-4232-81f9-898b05ebe3e1"
      },
      "source": [
        "arr_2d = np.array([[1,4],[2,3]])\n",
        "arr_2d"
      ],
      "execution_count": 16,
      "outputs": [
        {
          "output_type": "execute_result",
          "data": {
            "text/plain": [
              "array([[1, 4],\n",
              "       [2, 3]])"
            ]
          },
          "metadata": {
            "tags": []
          },
          "execution_count": 16
        }
      ]
    },
    {
      "cell_type": "code",
      "metadata": {
        "colab": {
          "base_uri": "https://localhost:8080/"
        },
        "id": "TBJyNyfqFonE",
        "outputId": "7fbba3e8-b134-4e3e-9f1c-a812491c7eb6"
      },
      "source": [
        "arr_2d.ndim"
      ],
      "execution_count": 17,
      "outputs": [
        {
          "output_type": "execute_result",
          "data": {
            "text/plain": [
              "2"
            ]
          },
          "metadata": {
            "tags": []
          },
          "execution_count": 17
        }
      ]
    },
    {
      "cell_type": "code",
      "metadata": {
        "colab": {
          "base_uri": "https://localhost:8080/"
        },
        "id": "z0aglWfoF1Bg",
        "outputId": "9e8b941f-0791-42b2-8218-62b60f5124a5"
      },
      "source": [
        "arr_2d.shape"
      ],
      "execution_count": 18,
      "outputs": [
        {
          "output_type": "execute_result",
          "data": {
            "text/plain": [
              "(2, 2)"
            ]
          },
          "metadata": {
            "tags": []
          },
          "execution_count": 18
        }
      ]
    },
    {
      "cell_type": "markdown",
      "metadata": {
        "id": "3XdKeo93Grre"
      },
      "source": [
        "Tabele 3-wymiarowe"
      ]
    },
    {
      "cell_type": "code",
      "metadata": {
        "colab": {
          "base_uri": "https://localhost:8080/"
        },
        "id": "5JXlpjh4GtvE",
        "outputId": "ad3f305c-ac7e-4533-dfef-6b9c1f911b18"
      },
      "source": [
        "arr_3d = np.array([[[2,3,4],[5,2,1],[2,8,0]]])\n",
        "arr_3d.ndim"
      ],
      "execution_count": 22,
      "outputs": [
        {
          "output_type": "execute_result",
          "data": {
            "text/plain": [
              "3"
            ]
          },
          "metadata": {
            "tags": []
          },
          "execution_count": 22
        }
      ]
    },
    {
      "cell_type": "code",
      "metadata": {
        "colab": {
          "base_uri": "https://localhost:8080/"
        },
        "id": "4dvUZRp4G8f_",
        "outputId": "923861aa-c35c-4d39-8825-6ddd5fda351b"
      },
      "source": [
        "np_array = np.zeros(10, dtype='int64')\n",
        "np_array[5] = 4\n",
        "np_array"
      ],
      "execution_count": 27,
      "outputs": [
        {
          "output_type": "execute_result",
          "data": {
            "text/plain": [
              "array([0, 0, 0, 0, 0, 4, 0, 0, 0, 0])"
            ]
          },
          "metadata": {
            "tags": []
          },
          "execution_count": 27
        }
      ]
    },
    {
      "cell_type": "code",
      "metadata": {
        "colab": {
          "base_uri": "https://localhost:8080/"
        },
        "id": "Qs2M6q-DIqzI",
        "outputId": "327d34bb-ad25-4441-de20-70479fe1254a"
      },
      "source": [
        "arange_array = np.arange(0,21,2.5,dtype='float')\n",
        "arange_array.reshape(3,3)"
      ],
      "execution_count": 35,
      "outputs": [
        {
          "output_type": "execute_result",
          "data": {
            "text/plain": [
              "array([[ 0. ,  2.5,  5. ],\n",
              "       [ 7.5, 10. , 12.5],\n",
              "       [15. , 17.5, 20. ]])"
            ]
          },
          "metadata": {
            "tags": []
          },
          "execution_count": 35
        }
      ]
    },
    {
      "cell_type": "code",
      "metadata": {
        "colab": {
          "base_uri": "https://localhost:8080/"
        },
        "id": "V6YuvmfLJjiI",
        "outputId": "d5645b50-4eab-46b7-821a-0983d93da2bc"
      },
      "source": [
        "arr2 = np.arange(2,40, dtype=np.uint8)\n",
        "arr2.dtype"
      ],
      "execution_count": 38,
      "outputs": [
        {
          "output_type": "execute_result",
          "data": {
            "text/plain": [
              "dtype('uint8')"
            ]
          },
          "metadata": {
            "tags": []
          },
          "execution_count": 38
        }
      ]
    },
    {
      "cell_type": "code",
      "metadata": {
        "colab": {
          "base_uri": "https://localhost:8080/"
        },
        "id": "-tIMfdERKoYn",
        "outputId": "fe086d2f-61be-4de5-91dd-cb0fa20b9a7a"
      },
      "source": [
        "np.ones(shape=(5,15), dtype=np.uint8)"
      ],
      "execution_count": 42,
      "outputs": [
        {
          "output_type": "execute_result",
          "data": {
            "text/plain": [
              "array([[1, 1, 1, 1, 1, 1, 1, 1, 1, 1, 1, 1, 1, 1, 1],\n",
              "       [1, 1, 1, 1, 1, 1, 1, 1, 1, 1, 1, 1, 1, 1, 1],\n",
              "       [1, 1, 1, 1, 1, 1, 1, 1, 1, 1, 1, 1, 1, 1, 1],\n",
              "       [1, 1, 1, 1, 1, 1, 1, 1, 1, 1, 1, 1, 1, 1, 1],\n",
              "       [1, 1, 1, 1, 1, 1, 1, 1, 1, 1, 1, 1, 1, 1, 1]], dtype=uint8)"
            ]
          },
          "metadata": {
            "tags": []
          },
          "execution_count": 42
        }
      ]
    },
    {
      "cell_type": "code",
      "metadata": {
        "colab": {
          "base_uri": "https://localhost:8080/"
        },
        "id": "qf-VOkuFLSb-",
        "outputId": "d5ca7b32-bef5-447b-bc34-de5157bfa588"
      },
      "source": [
        "np.full(shape=(6,7), fill_value=25, dtype=np.uint8)"
      ],
      "execution_count": 43,
      "outputs": [
        {
          "output_type": "execute_result",
          "data": {
            "text/plain": [
              "array([[25, 25, 25, 25, 25, 25, 25],\n",
              "       [25, 25, 25, 25, 25, 25, 25],\n",
              "       [25, 25, 25, 25, 25, 25, 25],\n",
              "       [25, 25, 25, 25, 25, 25, 25],\n",
              "       [25, 25, 25, 25, 25, 25, 25],\n",
              "       [25, 25, 25, 25, 25, 25, 25]], dtype=uint8)"
            ]
          },
          "metadata": {
            "tags": []
          },
          "execution_count": 43
        }
      ]
    },
    {
      "cell_type": "code",
      "metadata": {
        "colab": {
          "base_uri": "https://localhost:8080/"
        },
        "id": "_LTxltV4MEsU",
        "outputId": "a40c1334-dbf4-4e86-f629-f5b7b17c4d84"
      },
      "source": [
        "np.linspace(1,3,20)"
      ],
      "execution_count": 44,
      "outputs": [
        {
          "output_type": "execute_result",
          "data": {
            "text/plain": [
              "array([1.        , 1.10526316, 1.21052632, 1.31578947, 1.42105263,\n",
              "       1.52631579, 1.63157895, 1.73684211, 1.84210526, 1.94736842,\n",
              "       2.05263158, 2.15789474, 2.26315789, 2.36842105, 2.47368421,\n",
              "       2.57894737, 2.68421053, 2.78947368, 2.89473684, 3.        ])"
            ]
          },
          "metadata": {
            "tags": []
          },
          "execution_count": 44
        }
      ]
    },
    {
      "cell_type": "code",
      "metadata": {
        "id": "QQb2ZkOYM5yd"
      },
      "source": [
        "arr_A = np.arange(start=4, stop=np.random.randint(low=10,high=20), dtype='float')\n",
        "arr_B = np.linspace(start=1, stop=2, num=len(arr_A), dtype='float')"
      ],
      "execution_count": 76,
      "outputs": []
    },
    {
      "cell_type": "code",
      "metadata": {
        "colab": {
          "base_uri": "https://localhost:8080/"
        },
        "id": "32cMbbtHPMXn",
        "outputId": "626b1e91-642b-4363-b357-51a86b385206"
      },
      "source": [
        "arr_A + arr_B"
      ],
      "execution_count": 77,
      "outputs": [
        {
          "output_type": "execute_result",
          "data": {
            "text/plain": [
              "array([ 5.        ,  6.07692308,  7.15384615,  8.23076923,  9.30769231,\n",
              "       10.38461538, 11.46153846, 12.53846154, 13.61538462, 14.69230769,\n",
              "       15.76923077, 16.84615385, 17.92307692, 19.        ])"
            ]
          },
          "metadata": {
            "tags": []
          },
          "execution_count": 77
        }
      ]
    },
    {
      "cell_type": "code",
      "metadata": {
        "colab": {
          "base_uri": "https://localhost:8080/"
        },
        "id": "-_pLSQCNPnwv",
        "outputId": "677c067f-658e-4d25-f8ae-4ca237f7e0ff"
      },
      "source": [
        "X = np.array([2,3,4,3]).reshape(2,2)\n",
        "Y = np.array([4,2,1,8]).reshape(2,2)\n",
        "print(X)\n",
        "print(Y)"
      ],
      "execution_count": 83,
      "outputs": [
        {
          "output_type": "stream",
          "text": [
            "[[2 3]\n",
            " [4 3]]\n",
            "[[4 2]\n",
            " [1 8]]\n"
          ],
          "name": "stdout"
        }
      ]
    },
    {
      "cell_type": "code",
      "metadata": {
        "colab": {
          "base_uri": "https://localhost:8080/"
        },
        "id": "7D86Lw3lQu_3",
        "outputId": "33317a77-4843-4f47-c941-4486768e2fc5"
      },
      "source": [
        "np.dot(X,Y)"
      ],
      "execution_count": 84,
      "outputs": [
        {
          "output_type": "execute_result",
          "data": {
            "text/plain": [
              "array([[11, 28],\n",
              "       [19, 32]])"
            ]
          },
          "metadata": {
            "tags": []
          },
          "execution_count": 84
        }
      ]
    },
    {
      "cell_type": "code",
      "metadata": {
        "colab": {
          "base_uri": "https://localhost:8080/"
        },
        "id": "GY9EMeTbQ4x0",
        "outputId": "1c1063a6-3cc0-4930-9be5-75c29879b073"
      },
      "source": [
        "X @ Y"
      ],
      "execution_count": 85,
      "outputs": [
        {
          "output_type": "execute_result",
          "data": {
            "text/plain": [
              "array([[11, 28],\n",
              "       [19, 32]])"
            ]
          },
          "metadata": {
            "tags": []
          },
          "execution_count": 85
        }
      ]
    },
    {
      "cell_type": "code",
      "metadata": {
        "colab": {
          "base_uri": "https://localhost:8080/"
        },
        "id": "T2tD6iySRx5H",
        "outputId": "bf61d003-f032-4115-83e8-734042ffb739"
      },
      "source": [
        "Y @ X"
      ],
      "execution_count": 86,
      "outputs": [
        {
          "output_type": "execute_result",
          "data": {
            "text/plain": [
              "array([[16, 18],\n",
              "       [34, 27]])"
            ]
          },
          "metadata": {
            "tags": []
          },
          "execution_count": 86
        }
      ]
    },
    {
      "cell_type": "code",
      "metadata": {
        "id": "zRbsC9ksRznX"
      },
      "source": [
        ""
      ],
      "execution_count": null,
      "outputs": []
    }
  ]
}